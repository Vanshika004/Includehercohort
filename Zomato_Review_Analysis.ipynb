{
  "nbformat": 4,
  "nbformat_minor": 0,
  "metadata": {
    "colab": {
      "provenance": [],
      "authorship_tag": "ABX9TyNJQQ3TCZgihME8f+tbNfm7",
      "include_colab_link": true
    },
    "kernelspec": {
      "name": "python3",
      "display_name": "Python 3"
    },
    "language_info": {
      "name": "python"
    }
  },
  "cells": [
    {
      "cell_type": "markdown",
      "metadata": {
        "id": "view-in-github",
        "colab_type": "text"
      },
      "source": [
        "<a href=\"https://colab.research.google.com/github/Vanshika004/Zomato-Feedback-Review/blob/main/Zomato_Review_Analysis.ipynb\" target=\"_parent\"><img src=\"https://colab.research.google.com/assets/colab-badge.svg\" alt=\"Open In Colab\"/></a>"
      ]
    },
    {
      "cell_type": "markdown",
      "source": [
        "####*Data Preprocessing*"
      ],
      "metadata": {
        "id": "8G2yyeIONHrd"
      }
    },
    {
      "cell_type": "code",
      "source": [
        "import pandas as pd\n",
        "import numpy as np\n",
        "import matplotlib.pyplot as plt"
      ],
      "metadata": {
        "id": "YDI5XaxqMkwC"
      },
      "execution_count": null,
      "outputs": []
    },
    {
      "cell_type": "code",
      "source": [
        "data = pd.read_csv('/content/zomato_reviews.csv')\n",
        "X = data.iloc[:, :-1]\n",
        "y = data.iloc[:,-1]"
      ],
      "metadata": {
        "id": "XWuEM4OGp1Ex"
      },
      "execution_count": null,
      "outputs": []
    },
    {
      "cell_type": "code",
      "source": [
        "print(X)"
      ],
      "metadata": {
        "colab": {
          "base_uri": "https://localhost:8080/"
        },
        "id": "axe7Wsq3xYUf",
        "outputId": "748b0090-5db1-4e27-a52d-81a89efe265a"
      },
      "execution_count": null,
      "outputs": [
        {
          "output_type": "stream",
          "name": "stdout",
          "text": [
            "      Unnamed: 0  rating\n",
            "0              0       5\n",
            "1              1       5\n",
            "2              2       4\n",
            "3              3       1\n",
            "4              4       5\n",
            "...          ...     ...\n",
            "5474        5474       5\n",
            "5475        5475       5\n",
            "5476        5476       5\n",
            "5477        5477       1\n",
            "5478        5478       1\n",
            "\n",
            "[5479 rows x 2 columns]\n"
          ]
        }
      ]
    },
    {
      "cell_type": "code",
      "source": [
        "print(y)"
      ],
      "metadata": {
        "colab": {
          "base_uri": "https://localhost:8080/"
        },
        "id": "qX26hvIHxKSM",
        "outputId": "a19152a7-182a-475f-8c82-2da633602e94"
      },
      "execution_count": null,
      "outputs": [
        {
          "output_type": "stream",
          "name": "stdout",
          "text": [
            "0                                                    nice\n",
            "1       best biryani , so supportive staff of outlet ,...\n",
            "2          delivery boy was very decent and supportive.👌👍\n",
            "3       worst biryani i have tasted in my life, half o...\n",
            "4       all food is good and tasty . will order again ...\n",
            "                              ...                        \n",
            "5474                                             complain\n",
            "5475    it took 1 hour to assign valvet and thn prepar...\n",
            "5476    took for an hour to prepare 3 khawsa, which in...\n",
            "5477    very very late, littrally did time pass and it...\n",
            "5478    Taste was stale and they give only 5 pieces in...\n",
            "Name: review, Length: 5479, dtype: object\n"
          ]
        }
      ]
    },
    {
      "cell_type": "code",
      "source": [
        "from sklearn.impute import SimpleImputer\n",
        "imputer = SimpleImputer(missing_values= np.nan , strategy= \"mean\")"
      ],
      "metadata": {
        "id": "4KhcJm1gxcwd"
      },
      "execution_count": null,
      "outputs": []
    }
  ]
}